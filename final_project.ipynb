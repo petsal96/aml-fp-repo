{
 "cells": [
  {
   "cell_type": "markdown",
   "id": "75d0ba93-356c-4061-93c4-69bf094e6fc9",
   "metadata": {},
   "source": [
    "# Final Project: Segmentation of satellite images"
   ]
  },
  {
   "cell_type": "markdown",
   "id": "ddbe5d21-f046-4a51-bc4d-05509cf47ecd",
   "metadata": {},
   "source": [
    "## 1 Data"
   ]
  },
  {
   "cell_type": "code",
   "execution_count": 3,
   "id": "12cf4654-b300-4046-8ff2-bdaa2502b64d",
   "metadata": {},
   "outputs": [],
   "source": [
    "from osgeo import gdal\n",
    "import numpy as np\n",
    "import random as rd\n",
    "import os\n",
    "\n",
    "# get images:\n",
    "data = gdal.Open(os.path.join(\"data\", \"satellite_image.tif\"))\n",
    "segmentation = gdal.Open(os.path.join(\"data\", \"final.tif\"))\n",
    "\n",
    "# get coordinate info:\n",
    "ulx, xres, xskew, uly, yskew, yres = data.GetGeoTransform()\n",
    "\n",
    "# define grid for splits in pixels:\n",
    "grid_x_px = np.arange(0, data.RasterXSize, step=1000)\n",
    "grid_y_px = np.arange(0, data.RasterYSize, step=1000)\n",
    "\n",
    "# calculate grid for splits in coordinates:\n",
    "grid_x_co = ulx + np.arange(0, data.RasterXSize, step=1000) * xres\n",
    "grid_y_co = uly + np.arange(0, data.RasterYSize, step=1000) * yres\n",
    "\n",
    "# set training set, validation set and test ratio:\n",
    "data_set_folders = [\"training\", \"validation\", \"test\"]\n",
    "data_set_ratios = [0.7, 0.15, 0.15]\n",
    "\n",
    "# create directories if needed:\n",
    "for folder in data_set_folders:\n",
    "    if not os.path.isdir(os.path.join(\"data\", folder)):\n",
    "        os.mkdir(os.path.join(\"data\", folder))\n",
    "        os.mkdir(os.path.join(\"data\", folder, \"images\"))\n",
    "        os.mkdir(os.path.join(\"data\", folder, \"annotations\"))\n",
    "\n",
    "# split images:\n",
    "for ix in range(len(grid_x_co) - 1):\n",
    "    for iy in range(len(grid_y_co) - 1):\n",
    "        # choose data set randomly:\n",
    "        data_set_folder = rd.choices(data_set_folders, weights=data_set_ratios)[0]\n",
    "        # define setting for translation:\n",
    "        translate_options = gdal.TranslateOptions(gdal.ParseCommandLine(f\"-outsize 1000 1000 -projwin {grid_x_co[ix]} {grid_y_co[iy]} {grid_x_co[ix + 1]} {grid_y_co[iy + 1]}\"))\n",
    "        # split satellite image:\n",
    "        gdal.Translate(os.path.join(\"data\", data_set_folder, \"images\", f\"img_{ix}_{iy}.tif\"), data, options = translate_options)\n",
    "        # split annotations:\n",
    "        gdal.Translate(os.path.join(\"data\", data_set_folder, \"annotations\", f\"img_{ix}_{iy}.tif\"), segmentation, options = translate_options)"
   ]
  },
  {
   "cell_type": "code",
   "execution_count": 3,
   "id": "c5a64f65",
   "metadata": {},
   "outputs": [],
   "source": [
    "import tensorflow as tf\n",
    "from tensorflow.keras.layers import Conv2D, Conv2DTranspose, MaxPool2D, Cropping2D\n",
    "from tensorflow.keras import Model"
   ]
  },
  {
   "cell_type": "code",
   "execution_count": 4,
   "id": "b02cf53c",
   "metadata": {},
   "outputs": [],
   "source": [
    "class ConvBlock(Model):\n",
    "\n",
    "    def __init__(self, filters, kernel_size, pool_size):\n",
    "        super(ConvBlock, self).__init__()\n",
    "        self.conv1 = Conv2D(filters, kernel_size, activation=\"relu\")\n",
    "        self.conv2 = Conv2D(filters, kernel_size, activation=\"relu\")\n",
    "        self.max_pool = MaxPool2D(pool_size)\n",
    "\n",
    "    def call(self, x):\n",
    "        x = self.conv1(x)\n",
    "        y = self.conv2(x)\n",
    "        x = self.max_pool(y)\n",
    "        return x, y\n",
    "\n",
    "class UpConvBlock(Model):\n",
    "\n",
    "    def __init__(self, filters, conv_kernel_size, up_conv_kernel_size, crop_size):\n",
    "        super(UpConvBlock, self).__init__()\n",
    "        self.upconv = Conv2DTranspose(filters, up_conv_kernel_size, activation=\"relu\")\n",
    "        self.crop = Cropping2D((crop_size, crop_size))\n",
    "        self.conv1 = Conv2D(filters, conv_kernel_size, activation=\"relu\")\n",
    "        self.conv2 = Conv2D(filters, conv_kernel_size, activation=\"relu\")\n",
    "\n",
    "    def call(self, x, y):\n",
    "        x = self.upconv(x)\n",
    "        y = self.crop(y)\n",
    "        x = tf.concat([y, x])\n",
    "        x = self.conv1(x)\n",
    "        x = self.conv2(x)\n",
    "        return x"
   ]
  },
  {
   "cell_type": "code",
   "execution_count": 8,
   "id": "97897516-1d1f-43e9-82da-e93581f25c91",
   "metadata": {},
   "outputs": [],
   "source": [
    "\n",
    "class UNet(Model):\n",
    "\n",
    "    def __init__(self, input_dim = (572, 572), depth = 4, filters = 64, conv_kernel_size = 3, pool_size = 2, up_conv_kernel_size = 2, n_classes = 1):\n",
    "        super(UNet, self).__init__()\n",
    "        self.conv_blocks = []\n",
    "        output_dim = list(input_dim)\n",
    "        for i in range(depth):\n",
    "            self.conv_blocks.append(ConvBlock(2**i * filters, conv_kernel_size, pool_size))\n",
    "            output_dim = ((output_dim - 2 * conv_kernel_size + 2) - pool_size) / pool_size + 1\n",
    "            if round(output_dim[0]) != output_dim[0] or round(output_dim[1]) != output_dim[1]:\n",
    "                print(\"Warning: Output dimensions are rounded! Please check your inputs if this was not intended.\")\n",
    "            output_dim = [int(output_dim[0]), int(output_dim[1])]\n",
    "        self.conv1 = Conv2D((depth+1) * filters, conv_kernel_size, activation=\"relu\")\n",
    "        self.conv2 = Conv2D((depth+1) * filters, conv_kernel_size, activation=\"relu\")\n",
    "        output_dim = output_dim - 2 * conv_kernel_size + 2\n",
    "        self.up_conv_blocks = []\n",
    "        for i in range(depth):\n",
    "            input_dim = output_dim - 1 + up_conv_kernel_size\n",
    "            self.up_conv_blocks.append(UpConvBlock(2**(depth-i) * filters, conv_kernel_size, up_conv_kernel_size, crop_size))\n",
    "        self.conv3 = Conv2D(1, n_classes, activation=\"relu\")\n",
    "\n",
    "    def call(self, x):\n",
    "        y = []\n",
    "        for conv in self.conv_blocks:\n",
    "            x, y = conv(x)\n",
    "        x = self.conv1(x)\n",
    "        x = self.conv2(x)\n",
    "        for i, conv in enumerate(self.up_conv_blocks):\n",
    "            x = conv(x, y[i])\n",
    "        x = self.conv3(x)\n",
    "        return x"
   ]
  },
  {
   "cell_type": "code",
   "execution_count": 9,
   "id": "d5910def",
   "metadata": {},
   "outputs": [],
   "source": [
    "model = UNet()"
   ]
  }
 ],
 "metadata": {
  "kernelspec": {
   "display_name": "Python 3.8.8 ('base')",
   "language": "python",
   "name": "python3"
  },
  "language_info": {
   "codemirror_mode": {
    "name": "ipython",
    "version": 3
   },
   "file_extension": ".py",
   "mimetype": "text/x-python",
   "name": "python",
   "nbconvert_exporter": "python",
   "pygments_lexer": "ipython3",
   "version": "3.8.8"
  },
  "vscode": {
   "interpreter": {
    "hash": "0715a4d9c2742d1e961f267f17f8fe460870e106a84dec1b403272edfc0ff0a4"
   }
  }
 },
 "nbformat": 4,
 "nbformat_minor": 5
}
