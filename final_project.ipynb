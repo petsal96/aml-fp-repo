{
 "cells": [
  {
   "cell_type": "markdown",
   "id": "75d0ba93-356c-4061-93c4-69bf094e6fc9",
   "metadata": {},
   "source": [
    "# Final Project: Segmentation of satellite images"
   ]
  },
  {
   "cell_type": "markdown",
   "id": "ddbe5d21-f046-4a51-bc4d-05509cf47ecd",
   "metadata": {},
   "source": [
    "## 1 Data"
   ]
  },
  {
   "cell_type": "code",
   "execution_count": 3,
   "id": "12cf4654-b300-4046-8ff2-bdaa2502b64d",
   "metadata": {},
   "outputs": [],
   "source": [
    "from osgeo import gdal\n",
    "import numpy as np\n",
    "import random as rd\n",
    "import os\n",
    "\n",
    "# get images:\n",
    "data = gdal.Open(os.path.join(\"data\", \"satellite_image.tif\"))\n",
    "segmentation = gdal.Open(os.path.join(\"data\", \"final.tif\"))\n",
    "\n",
    "# get coordinate info:\n",
    "ulx, xres, xskew, uly, yskew, yres = data.GetGeoTransform()\n",
    "\n",
    "# define grid for splits in pixels:\n",
    "grid_x_px = np.arange(0, data.RasterXSize, step=1000)\n",
    "grid_y_px = np.arange(0, data.RasterYSize, step=1000)\n",
    "\n",
    "# calculate grid for splits in coordinates:\n",
    "grid_x_co = ulx + np.arange(0, data.RasterXSize, step=1000) * xres\n",
    "grid_y_co = uly + np.arange(0, data.RasterYSize, step=1000) * yres\n",
    "\n",
    "# set training set, validation set and test ratio:\n",
    "data_set_folders = [\"training\", \"validation\", \"test\"]\n",
    "data_set_ratios = [0.7, 0.15, 0.15]\n",
    "\n",
    "# create directories if needed:\n",
    "for folder in data_set_folders:\n",
    "    if not os.path.isdir(os.path.join(\"data\", folder)):\n",
    "        os.mkdir(os.path.join(\"data\", folder))\n",
    "        os.mkdir(os.path.join(\"data\", folder, \"images\"))\n",
    "        os.mkdir(os.path.join(\"data\", folder, \"annotations\"))\n",
    "\n",
    "# split images:\n",
    "for ix in range(len(grid_x_co) - 1):\n",
    "    for iy in range(len(grid_y_co) - 1):\n",
    "        # choose data set randomly:\n",
    "        data_set_folder = rd.choices(data_set_folders, weights=data_set_ratios)[0]\n",
    "        # define setting for translation:\n",
    "        translate_options = gdal.TranslateOptions(gdal.ParseCommandLine(f\"-outsize 1000 1000 -projwin {grid_x_co[ix]} {grid_y_co[iy]} {grid_x_co[ix + 1]} {grid_y_co[iy + 1]}\"))\n",
    "        # split satellite image:\n",
    "        gdal.Translate(os.path.join(\"data\", data_set_folder, \"images\", f\"img_{ix}_{iy}.tif\"), data, options = translate_options)\n",
    "        # split annotations:\n",
    "        gdal.Translate(os.path.join(\"data\", data_set_folder, \"annotations\", f\"img_{ix}_{iy}.tif\"), segmentation, options = translate_options)"
   ]
  },
  {
   "cell_type": "code",
   "execution_count": null,
   "id": "97897516-1d1f-43e9-82da-e93581f25c91",
   "metadata": {},
   "outputs": [],
   "source": []
  }
 ],
 "metadata": {
  "kernelspec": {
   "display_name": "Python 3",
   "language": "python",
   "name": "python3"
  },
  "language_info": {
   "codemirror_mode": {
    "name": "ipython",
    "version": 3
   },
   "file_extension": ".py",
   "mimetype": "text/x-python",
   "name": "python",
   "nbconvert_exporter": "python",
   "pygments_lexer": "ipython3",
   "version": "3.8.8"
  }
 },
 "nbformat": 4,
 "nbformat_minor": 5
}
